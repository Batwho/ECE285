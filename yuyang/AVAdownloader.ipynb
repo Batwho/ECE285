{
 "cells": [
  {
   "attachments": {},
   "cell_type": "markdown",
   "metadata": {},
   "source": [
    "# AVA Dataset Downloader\n",
    "https://github.com/alainray/ava_downloader/blob/master/ava_dataset.py\n",
    "https://github.com/cvdfoundation/ava-dataset"
   ]
  },
  {
   "cell_type": "code",
   "execution_count": 1,
   "metadata": {},
   "outputs": [],
   "source": [
    "import csv\n",
    "import requests\n",
    "import os\n",
    "\n",
    "directory = \"/Users/yuyang/Desktop/AVA\" "
   ]
  },
  {
   "cell_type": "code",
   "execution_count": 5,
   "metadata": {},
   "outputs": [
    {
     "name": "stdout",
     "output_type": "stream",
     "text": [
      "Downloaded /Users/yuyang/Desktop/AVA/_-Z6wFjXtGQ.mkv\n",
      "Downloaded /Users/yuyang/Desktop/AVA/_145Aa_xkuE.mp4\n",
      "Downloaded /Users/yuyang/Desktop/AVA/_7oWZq_s_Sk.mkv\n"
     ]
    }
   ],
   "source": [
    "def download_file(url, directory):\n",
    "    local_filename = os.path.join(directory, os.path.basename(url))\n",
    "    r = requests.get(url, stream=True)\n",
    "    with open(local_filename, 'wb') as f:\n",
    "        for chunk in r.iter_content(chunk_size=1024): \n",
    "            if chunk:\n",
    "                f.write(chunk)\n",
    "    print(\"Downloaded\", local_filename)\n",
    "    \n",
    "base_url_trainval = \"https://s3.amazonaws.com/ava-dataset/trainval/\"\n",
    "base_url_test = \"https://s3.amazonaws.com/ava-dataset/test/\"\n",
    "\n",
    "# let's assume 'ava_file_names_trainval_v2.1.txt' and 'ava_file_names_test_v2.1.txt' \n",
    "# are text files that contain the names of the files to download\n",
    "# in the trainval and test sets, respectively\n",
    "\n",
    "with open(\"ava_v2.2/ava_file_names_trainval_v2.1.txt\") as f:\n",
    "    trainval_files = f.readlines()\n",
    "    \n",
    "with open(\"ava_v2.2/ava_file_names_test_v2.1.txt\") as f:\n",
    "    test_files = f.readlines()\n",
    "\n",
    "# remove any newline characters\n",
    "trainval_files = [file.strip() for file in trainval_files]\n",
    "test_files = [file.strip() for file in test_files]\n",
    "\n",
    "for file in trainval_files:\n",
    "    download_file(base_url_trainval + file, directory)\n",
    "\n",
    "for file in test_files:\n",
    "    download_file(base_url_test + file, directory)"
   ]
  }
 ],
 "metadata": {
  "kernelspec": {
   "display_name": "base",
   "language": "python",
   "name": "python3"
  },
  "language_info": {
   "codemirror_mode": {
    "name": "ipython",
    "version": 3
   },
   "file_extension": ".py",
   "mimetype": "text/x-python",
   "name": "python",
   "nbconvert_exporter": "python",
   "pygments_lexer": "ipython3",
   "version": "3.9.13"
  },
  "orig_nbformat": 4
 },
 "nbformat": 4,
 "nbformat_minor": 2
}
