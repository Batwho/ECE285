{
 "cells": [
  {
   "attachments": {},
   "cell_type": "markdown",
   "metadata": {},
   "source": [
    "# AVA Dataset Downloader\n",
    "https://github.com/alainray/ava_downloader/blob/master/ava_dataset.py\n",
    "https://github.com/cvdfoundation/ava-dataset"
   ]
  },
  {
   "cell_type": "code",
   "execution_count": 4,
   "metadata": {},
   "outputs": [],
   "source": [
    "import csv\n",
    "import requests\n",
    "import os\n",
    "\n",
    "directory = \"/Users/yuyang/Desktop/AVA\" "
   ]
  },
  {
   "cell_type": "code",
   "execution_count": 6,
   "metadata": {},
   "outputs": [
    {
     "name": "stdout",
     "output_type": "stream",
     "text": [
      "['5BDj0ow5hnA.mp4', '5LrOQEt_XVM.mp4', '5milLu-6bWI.mp4', '5MxjqHfkWFI.mkv', '5YPjcdLbs5g.mkv', '6d5u6FHvz7Q.mkv', '7g37N3eoQ9s.mkv', '7nHkh4sP5Ks.mkv', '7T5G0CmwTPo.mkv', '7YpF6DntOYw.mkv', '8aMv-ZGD4ic.mkv', '8JSxLhDMGtE.mkv', '8nO5FFbIAog.webm', '8VZEwOCQ8bc.mkv', '914yZXz-iRs.mkv', '9bK05eBt1GM.mp4', '9eAOr_ttXp0.mkv', '9F2voT6QWvQ.mkv', '9HOMUW7QNFc.mkv', '9IF8uTRrWAM.mkv', '9mLYmkonWZQ.mkv', '9QbzS8bZXFE.mkv', '9Rcxr3IEX4E.mkv', '9tyiDEYiWiA.mkv', '9Y_l9NsnYE0.mp4', 'aDEYi1OG0vU.mkv', 'Ag-pXiLrd48.mp4', 'aMYcLyh9OhU.mkv', 'AN07xQokfiE.mp4', 'aRbLw-dU2XY.mp4', 'ax3q-RkVIt4.mp4', 'ayAMdYfJJLk.mkv', 'AYebXQ8eUkM.mkv', 'b-YoBU0XT90.mp4', 'B1MAUxpKaV8.mkv', 'b50s4AlOOKY.mkv', 'b5pRYl_djbs.mp4', 'bAVXp1oGjHA.mkv', 'BCiuXAuCKAU.mp4', 'bePts02nIY8.mkv', 'bhlFavrh7WU.mkv', 'bSZiZ4rOC7c.mkv', 'BXCh3r-pPAM.mkv', 'BY3sZmvUp-0.mp4', 'C25wkwAMB-w.mkv', 'C3qk4yAMANk.mkv', 'c9pEMjPT16M.webm', 'cc4y-yYm5Ao.mkv', 'CG98XdYsgrA.mkv', 'cKA-qeZuH_w.mkv', 'cLiJgvrDlWw.mp4', 'CMCPhm2L400.mkv', 'covMYDBa5dk.mp4', 'CrlfWnsS7ac.mkv', 'cWYJHb25EVs.mp4', 'CZ2NP8UsPuE.mkv', 'D-BJTU6NxZ8.mkv', 'D8Vhxbho1fY.mp4', 'Db19rWN5BGo.mkv', 'dgLApPvmfBE.mkv', 'Di1MG6auDYo.mkv', 'dMH8L7mqCNI.mkv', 'E2jecoyAx1M.mkv', 'E7JcKooKVsM.mp4', 'eA55_shhKko.mkv', 'Ecivp8t3MdY.mkv', 'Ekwy7wzLfjc.mkv', 'er7eeiJB6dI.mkv', 'F3dPH6Xqf5M.mp4', 'fD6VkIRlIRI.mkv', 'Feu1_8NazPE.mp4', 'fGgnNCbXZ20.mp4', 'fNcxxBjEOgw.mkv', 'fpprSy6AzKk.mkv', 'fZs-yXm-uUs.mp4', 'g1wyIcLPbq0.mp4', 'G4qq1MRXCiY.mkv', 'G5Yr20A5z_Q.mkv', 'GBXK_SyfisM.mkv', 'Gfdg_GcaNe8.mkv', 'gjasEUDkbuc.mkv', 'gjdgj04FzR0.mp4', 'GozLjpMNADg.mkv', 'gqmmpoO1JrY.mkv', 'Gt61_Yekkgc.mp4', 'Gvp-cj3bmIY.webm', 'hbYvDvJrpNk.mp4', 'hHgg9WI8dTk.mkv', 'Hi8QeP_VPu0.mkv', 'HJzgJ9ZjvJk.mkv', 'HKjR70GCRPE.mp4', 'Hscyg0vLKc8.mp4', 'HTYT2vF-j_w.mkv', 'HV0H6oc4Kvs.mkv', 'HVAmkvLrthQ.mkv', 'HymKCzQJbB8.mkv', 'I8j6Xq2B5ys.mp4', 'Ie35yEssHko.mkv', 'IKdBLciu_-A.mp4', 'iSlDMboCSao.mkv', 'IuPC-z-M9u8.mkv', 'IzvOYVMltkI.mp4', 'J1jDc2rTJlg.mkv', 'j35JnR0Q7Es.mp4', 'J4bt4y9ShTA.mkv', 'j5jmjhGBW44.mkv', 'jBs_XYHI7gM.mkv', 'jE0S8gYWftE.webm', 'jgAwJ0RqmYg.mp4', 'jI0HIlSsa3s.mkv', 'JNb4nWexD0I.mkv', 'jqZpiHlJUig.mkv', 'K_SpqDJnlps.mkv', 'kAsz-76DTDE.mkv', 'Kb1fduj-jdY.mp4', 'KHHgQ_Pe4cI.mkv', 'KIy2a-nejxg.mp4', 'kLDpP9QEVBs.mp4', 'kMy-6RtoOVU.mkv', 'kplbKz3_fZk.mkv', 'Ksd1JQFHYWA.mp4', 'KVq6If6ozMY.mkv', 'KWoSGtglCms.mkv', 'l-jxh8gpxuY.mkv', 'l2XO3tQk8lI.mkv', 'lDmLcWWBp1E.mkv', 'Lg1jOu8cUBM.mkv', 'LIavUJVrXaI.mkv', 'LrDT25hmApw.mkv', 'lT1zdTL-3SM.mkv', 'lWXhqIAvarw.mkv', 'M6cgEs9JgDo.mkv', 'Ma2hgTmveKQ.mkv', 'mfsbYdLx9wE.mkv', 'miB-wo2PfLI.mkv', 'mkcDANJjDcM.mkv', 'N0Dt9i9IUNg.mkv', 'N1K2bEZLL_A.mkv', 'N5UD8FGzDek.mkv', 'N7baJsMszJ0.mkv', 'NEQ7Wpf-EtI.mkv', 'nlinqZPgvVk.mkv', 'NO2esmws190.mkv', 'O_NYCUhZ9zw.mp4', 'o4xQ-BEa3Ss.mkv', 'O5m_0Yay4EU.mkv', 'oD_wxyTHJ2I.mp4', 'OfMdakd4bHI.mkv', 'OGNnUvJq9RI.mkv', 'oifTDWZvOhY.mkv', 'oITFHwzfw_k.mkv', 'om_83F5VwTQ.mp4', 'oq_bufAhyl8.mkv', 'Ov0za6Xb1LM.mkv', 'oWhvucAskhk.mkv', 'P60OxWahxBQ.mkv', 'P90hF2S1JzA.mkv', 'PcFEhUKhN6g.mkv', 'pGP_oIdKmRY.mkv', 'phrYEKv0rmw.mkv', 'phVLLTMzmKk.mkv', 'pieVIsGmLsc.mkv', 'piYxcrMxVPw.mkv', 'plkJ45_-pMk.mp4', 'PmElx9ZVByw.mp4', 'PNZQ2UJfyQE.mp4', 'QaIMUi-elFo.mkv', 'qBUu7cy-5Iw.mp4', 'QCLQYnt3aMo.webm', 'QD3L10bUnBo.mkv', 'QJzocCGLdHU.mp4', 'QMwT7DFA5O4.mkv', 'QotkBTEePI8.mkv', 'qpoWHELxL-4.mp4', 'qrkff49p4E4.mp4', 'qsTqtWVVSLM.mkv', 'QTmwhrVal1g.mkv', 'qx2vAO5ofmo.mp4', 'r2llOyS-BmE.mkv', 'rCb9-U4TArw.mp4', 'rFgb2ECMcrY.mkv', 'ri4P2enZT9o.mkv', 'Riu4ZKk4YdQ.webm', 'rJKeqfTlAeY.mkv', 'rk8Xm0EAOWs.mkv', 'Rm518TUhbRY.mkv', 'rUYsoIIE37A.mp4', 'rXFlJbXyZyc.mkv', 'S0tkhGJjwLA.mkv', 'sADELCyj10I.mkv', 'SCh-ZImnyyk.mp4', 'SHBMiL5f_3Q.mkv', 'skiZueh4lfY.mkv', 'sNQJfYvhcPk.mp4', 'sUVhd0YTKgw.mkv', 'T-Fc9ctuNVI.mkv', 't0V4drbYDnc.mkv', 't1LXrJOvPDg.mkv', 'T26G6_AjJZ4.mkv', 'TcB0IFBwk-k.mkv', 'TCmNvNLRWrc.mkv', 'tEoJW9ycmSY.mkv', 'TEQ9sAj-DPo.mp4', 'tghXjom3120.mkv', 'tjqCzVjojCo.mkv', 'TM5MPJIq1Is.mkv', 'tNpZtigMc4g.mkv', 'tt0t_a1EDCE.mkv', 'TzaVHtLXOzY.mkv', 'U_WzY2k8IBM.mkv', 'u1ltv6r14KQ.mkv', 'UgZFdrNT6W0.mkv', 'uNT6HrrnqPU.webm', 'UOfuzrwkclM.mkv', 'UOyyTUX5Vo4.mkv', 'uq_HBsvP548.mkv', 'UrsCy6qIGoo.mkv', 'UsLnxI_zGpY.mkv', 'uwW0ejeosmk.mkv', 'uzPI7FcF79U.mkv', 'v0L-WkMO3s4.mp4', 'vBbjA4tWCPg.mp4', 'vfjywN5CN0Y.mkv', 'Vmef_8MY46w.mkv', 'VRlpH1MbWUw.mp4', 'VsYPP2I0aUQ.mkv', 'wEAeql4z1O0.mp4', 'wfEOx36N4jA.mp4', 'WKqbLbU68wU.mkv', 'WlgxRNCHQzw.mkv', 'wogRuPNBUi8.mp4', 'wONG7Vh87B4.mkv', 'WSPvfxtqisg.mkv', 'WVde9pyaHg4.mkv', 'x-6CtPWVi6E.mkv', 'X5wWhZ2r9kc.mp4', 'xeGWXqSvC-8.webm', 'XF87VL5T0aA.mkv', 'XglAvHaEtHY.mp4', 'xJmRNZVDDCY.mkv', 'xmqSaQPzL1E.mkv', 'xO4ABy2iOQA.mp4', 'xp67EC-Hvwk.mkv', 'XpGRS72ghag.mkv', 'XV_FF3WC7kA.mkv', 'y7ncweROe9U.mkv', 'yMtGmGa8KZ0.mkv', 'yn9WN9lsHRE.mkv', 'yo-Kg2YxlZs.mkv', 'yqImJuC5UzI.mp4', 'Ytga8ciKWJc.mkv', 'yvgCGJ6vfkY.mkv', 'YYWdB7h1INo.mkv', 'z-fsLpGHq6o.mkv', 'Z1YV6wB037M.mkv', 'z3kgrh0L_80.mkv', 'zC5Fh2tTS1U.mp4', 'zG7mx8KiavA.mp4', 'zlVkeKC6Ha8.mp4', 'ZosVdkY76FU.mkv', 'zR725veL-DI.mkv', 'ZxQn8HVmXsY.mkv']\n"
     ]
    }
   ],
   "source": [
    "def download_file(url, directory):\n",
    "    local_filename = os.path.join(directory, os.path.basename(url))\n",
    "    r = requests.get(url, stream=True)\n",
    "    with open(local_filename, 'wb') as f:\n",
    "        for chunk in r.iter_content(chunk_size=1024): \n",
    "            if chunk:\n",
    "                f.write(chunk)\n",
    "    print(\"Downloaded\", local_filename)\n",
    "    \n",
    "base_url_trainval = \"https://s3.amazonaws.com/ava-dataset/trainval/\"\n",
    "base_url_test = \"https://s3.amazonaws.com/ava-dataset/test/\"\n",
    "\n",
    "# let's assume 'ava_file_names_trainval_v2.1.txt' and 'ava_file_names_test_v2.1.txt' \n",
    "# are text files that contain the names of the files to download\n",
    "# in the trainval and test sets, respectively\n",
    "\n",
    "with open(\"ava_v2.2/ava_file_names_trainval_v2.1.txt\") as f:\n",
    "    trainval_files = f.readlines()\n",
    "    \n",
    "with open(\"ava_v2.2/ava_file_names_test_v2.1.txt\") as f:\n",
    "    test_files = f.readlines()\n",
    "\n",
    "# remove any newline characters\n",
    "trainval_files = [file.strip() for file in trainval_files]\n",
    "test_files = [file.strip() for file in test_files]\n",
    "\n",
    "print(trainval_files)"
   ]
  },
  {
   "cell_type": "code",
   "execution_count": 7,
   "metadata": {},
   "outputs": [
    {
     "name": "stdout",
     "output_type": "stream",
     "text": [
      "Downloaded /Users/yuyang/Desktop/AVA/5BDj0ow5hnA.mp4\n",
      "Downloaded /Users/yuyang/Desktop/AVA/5LrOQEt_XVM.mp4\n",
      "Downloaded /Users/yuyang/Desktop/AVA/5milLu-6bWI.mp4\n",
      "Downloaded /Users/yuyang/Desktop/AVA/5MxjqHfkWFI.mkv\n",
      "Downloaded /Users/yuyang/Desktop/AVA/5YPjcdLbs5g.mkv\n",
      "Downloaded /Users/yuyang/Desktop/AVA/6d5u6FHvz7Q.mkv\n",
      "Downloaded /Users/yuyang/Desktop/AVA/7g37N3eoQ9s.mkv\n",
      "Downloaded /Users/yuyang/Desktop/AVA/7nHkh4sP5Ks.mkv\n",
      "Downloaded /Users/yuyang/Desktop/AVA/7T5G0CmwTPo.mkv\n",
      "Downloaded /Users/yuyang/Desktop/AVA/7YpF6DntOYw.mkv\n",
      "Downloaded /Users/yuyang/Desktop/AVA/8aMv-ZGD4ic.mkv\n",
      "Downloaded /Users/yuyang/Desktop/AVA/8JSxLhDMGtE.mkv\n",
      "Downloaded /Users/yuyang/Desktop/AVA/8nO5FFbIAog.webm\n"
     ]
    },
    {
     "ename": "KeyboardInterrupt",
     "evalue": "",
     "output_type": "error",
     "traceback": [
      "\u001b[0;31m---------------------------------------------------------------------------\u001b[0m",
      "\u001b[0;31mKeyboardInterrupt\u001b[0m                         Traceback (most recent call last)",
      "\u001b[0;32m/var/folders/c_/47phwr655cb1558h1f5ly1z80000gn/T/ipykernel_875/1002043342.py\u001b[0m in \u001b[0;36m<module>\u001b[0;34m\u001b[0m\n\u001b[1;32m      1\u001b[0m \u001b[0;32mfor\u001b[0m \u001b[0mfile\u001b[0m \u001b[0;32min\u001b[0m \u001b[0mtrainval_files\u001b[0m\u001b[0;34m:\u001b[0m\u001b[0;34m\u001b[0m\u001b[0;34m\u001b[0m\u001b[0m\n\u001b[0;32m----> 2\u001b[0;31m     \u001b[0mdownload_file\u001b[0m\u001b[0;34m(\u001b[0m\u001b[0mbase_url_trainval\u001b[0m \u001b[0;34m+\u001b[0m \u001b[0mfile\u001b[0m\u001b[0;34m,\u001b[0m \u001b[0mdirectory\u001b[0m\u001b[0;34m)\u001b[0m\u001b[0;34m\u001b[0m\u001b[0;34m\u001b[0m\u001b[0m\n\u001b[0m",
      "\u001b[0;32m/var/folders/c_/47phwr655cb1558h1f5ly1z80000gn/T/ipykernel_875/3154161785.py\u001b[0m in \u001b[0;36mdownload_file\u001b[0;34m(url, directory)\u001b[0m\n\u001b[1;32m      3\u001b[0m     \u001b[0mr\u001b[0m \u001b[0;34m=\u001b[0m \u001b[0mrequests\u001b[0m\u001b[0;34m.\u001b[0m\u001b[0mget\u001b[0m\u001b[0;34m(\u001b[0m\u001b[0murl\u001b[0m\u001b[0;34m,\u001b[0m \u001b[0mstream\u001b[0m\u001b[0;34m=\u001b[0m\u001b[0;32mTrue\u001b[0m\u001b[0;34m)\u001b[0m\u001b[0;34m\u001b[0m\u001b[0;34m\u001b[0m\u001b[0m\n\u001b[1;32m      4\u001b[0m     \u001b[0;32mwith\u001b[0m \u001b[0mopen\u001b[0m\u001b[0;34m(\u001b[0m\u001b[0mlocal_filename\u001b[0m\u001b[0;34m,\u001b[0m \u001b[0;34m'wb'\u001b[0m\u001b[0;34m)\u001b[0m \u001b[0;32mas\u001b[0m \u001b[0mf\u001b[0m\u001b[0;34m:\u001b[0m\u001b[0;34m\u001b[0m\u001b[0;34m\u001b[0m\u001b[0m\n\u001b[0;32m----> 5\u001b[0;31m         \u001b[0;32mfor\u001b[0m \u001b[0mchunk\u001b[0m \u001b[0;32min\u001b[0m \u001b[0mr\u001b[0m\u001b[0;34m.\u001b[0m\u001b[0miter_content\u001b[0m\u001b[0;34m(\u001b[0m\u001b[0mchunk_size\u001b[0m\u001b[0;34m=\u001b[0m\u001b[0;36m1024\u001b[0m\u001b[0;34m)\u001b[0m\u001b[0;34m:\u001b[0m\u001b[0;34m\u001b[0m\u001b[0;34m\u001b[0m\u001b[0m\n\u001b[0m\u001b[1;32m      6\u001b[0m             \u001b[0;32mif\u001b[0m \u001b[0mchunk\u001b[0m\u001b[0;34m:\u001b[0m\u001b[0;34m\u001b[0m\u001b[0;34m\u001b[0m\u001b[0m\n\u001b[1;32m      7\u001b[0m                 \u001b[0mf\u001b[0m\u001b[0;34m.\u001b[0m\u001b[0mwrite\u001b[0m\u001b[0;34m(\u001b[0m\u001b[0mchunk\u001b[0m\u001b[0;34m)\u001b[0m\u001b[0;34m\u001b[0m\u001b[0;34m\u001b[0m\u001b[0m\n",
      "\u001b[0;32m~/opt/anaconda3/lib/python3.9/site-packages/requests/models.py\u001b[0m in \u001b[0;36mgenerate\u001b[0;34m()\u001b[0m\n\u001b[1;32m    814\u001b[0m             \u001b[0;32mif\u001b[0m \u001b[0mhasattr\u001b[0m\u001b[0;34m(\u001b[0m\u001b[0mself\u001b[0m\u001b[0;34m.\u001b[0m\u001b[0mraw\u001b[0m\u001b[0;34m,\u001b[0m \u001b[0;34m\"stream\"\u001b[0m\u001b[0;34m)\u001b[0m\u001b[0;34m:\u001b[0m\u001b[0;34m\u001b[0m\u001b[0;34m\u001b[0m\u001b[0m\n\u001b[1;32m    815\u001b[0m                 \u001b[0;32mtry\u001b[0m\u001b[0;34m:\u001b[0m\u001b[0;34m\u001b[0m\u001b[0;34m\u001b[0m\u001b[0m\n\u001b[0;32m--> 816\u001b[0;31m                     \u001b[0;32myield\u001b[0m \u001b[0;32mfrom\u001b[0m \u001b[0mself\u001b[0m\u001b[0;34m.\u001b[0m\u001b[0mraw\u001b[0m\u001b[0;34m.\u001b[0m\u001b[0mstream\u001b[0m\u001b[0;34m(\u001b[0m\u001b[0mchunk_size\u001b[0m\u001b[0;34m,\u001b[0m \u001b[0mdecode_content\u001b[0m\u001b[0;34m=\u001b[0m\u001b[0;32mTrue\u001b[0m\u001b[0;34m)\u001b[0m\u001b[0;34m\u001b[0m\u001b[0;34m\u001b[0m\u001b[0m\n\u001b[0m\u001b[1;32m    817\u001b[0m                 \u001b[0;32mexcept\u001b[0m \u001b[0mProtocolError\u001b[0m \u001b[0;32mas\u001b[0m \u001b[0me\u001b[0m\u001b[0;34m:\u001b[0m\u001b[0;34m\u001b[0m\u001b[0;34m\u001b[0m\u001b[0m\n\u001b[1;32m    818\u001b[0m                     \u001b[0;32mraise\u001b[0m \u001b[0mChunkedEncodingError\u001b[0m\u001b[0;34m(\u001b[0m\u001b[0me\u001b[0m\u001b[0;34m)\u001b[0m\u001b[0;34m\u001b[0m\u001b[0;34m\u001b[0m\u001b[0m\n",
      "\u001b[0;32m~/opt/anaconda3/lib/python3.9/site-packages/urllib3/response.py\u001b[0m in \u001b[0;36mstream\u001b[0;34m(self, amt, decode_content)\u001b[0m\n\u001b[1;32m    625\u001b[0m         \u001b[0;32melse\u001b[0m\u001b[0;34m:\u001b[0m\u001b[0;34m\u001b[0m\u001b[0;34m\u001b[0m\u001b[0m\n\u001b[1;32m    626\u001b[0m             \u001b[0;32mwhile\u001b[0m \u001b[0;32mnot\u001b[0m \u001b[0mis_fp_closed\u001b[0m\u001b[0;34m(\u001b[0m\u001b[0mself\u001b[0m\u001b[0;34m.\u001b[0m\u001b[0m_fp\u001b[0m\u001b[0;34m)\u001b[0m\u001b[0;34m:\u001b[0m\u001b[0;34m\u001b[0m\u001b[0;34m\u001b[0m\u001b[0m\n\u001b[0;32m--> 627\u001b[0;31m                 \u001b[0mdata\u001b[0m \u001b[0;34m=\u001b[0m \u001b[0mself\u001b[0m\u001b[0;34m.\u001b[0m\u001b[0mread\u001b[0m\u001b[0;34m(\u001b[0m\u001b[0mamt\u001b[0m\u001b[0;34m=\u001b[0m\u001b[0mamt\u001b[0m\u001b[0;34m,\u001b[0m \u001b[0mdecode_content\u001b[0m\u001b[0;34m=\u001b[0m\u001b[0mdecode_content\u001b[0m\u001b[0;34m)\u001b[0m\u001b[0;34m\u001b[0m\u001b[0;34m\u001b[0m\u001b[0m\n\u001b[0m\u001b[1;32m    628\u001b[0m \u001b[0;34m\u001b[0m\u001b[0m\n\u001b[1;32m    629\u001b[0m                 \u001b[0;32mif\u001b[0m \u001b[0mdata\u001b[0m\u001b[0;34m:\u001b[0m\u001b[0;34m\u001b[0m\u001b[0;34m\u001b[0m\u001b[0m\n",
      "\u001b[0;32m~/opt/anaconda3/lib/python3.9/site-packages/urllib3/response.py\u001b[0m in \u001b[0;36mread\u001b[0;34m(self, amt, decode_content, cache_content)\u001b[0m\n\u001b[1;32m    564\u001b[0m \u001b[0;34m\u001b[0m\u001b[0m\n\u001b[1;32m    565\u001b[0m         \u001b[0;32mwith\u001b[0m \u001b[0mself\u001b[0m\u001b[0;34m.\u001b[0m\u001b[0m_error_catcher\u001b[0m\u001b[0;34m(\u001b[0m\u001b[0;34m)\u001b[0m\u001b[0;34m:\u001b[0m\u001b[0;34m\u001b[0m\u001b[0;34m\u001b[0m\u001b[0m\n\u001b[0;32m--> 566\u001b[0;31m             \u001b[0mdata\u001b[0m \u001b[0;34m=\u001b[0m \u001b[0mself\u001b[0m\u001b[0;34m.\u001b[0m\u001b[0m_fp_read\u001b[0m\u001b[0;34m(\u001b[0m\u001b[0mamt\u001b[0m\u001b[0;34m)\u001b[0m \u001b[0;32mif\u001b[0m \u001b[0;32mnot\u001b[0m \u001b[0mfp_closed\u001b[0m \u001b[0;32melse\u001b[0m \u001b[0;34mb\"\"\u001b[0m\u001b[0;34m\u001b[0m\u001b[0;34m\u001b[0m\u001b[0m\n\u001b[0m\u001b[1;32m    567\u001b[0m             \u001b[0;32mif\u001b[0m \u001b[0mamt\u001b[0m \u001b[0;32mis\u001b[0m \u001b[0;32mNone\u001b[0m\u001b[0;34m:\u001b[0m\u001b[0;34m\u001b[0m\u001b[0;34m\u001b[0m\u001b[0m\n\u001b[1;32m    568\u001b[0m                 \u001b[0mflush_decoder\u001b[0m \u001b[0;34m=\u001b[0m \u001b[0;32mTrue\u001b[0m\u001b[0;34m\u001b[0m\u001b[0;34m\u001b[0m\u001b[0m\n",
      "\u001b[0;32m~/opt/anaconda3/lib/python3.9/site-packages/urllib3/response.py\u001b[0m in \u001b[0;36m_fp_read\u001b[0;34m(self, amt)\u001b[0m\n\u001b[1;32m    530\u001b[0m         \u001b[0;32melse\u001b[0m\u001b[0;34m:\u001b[0m\u001b[0;34m\u001b[0m\u001b[0;34m\u001b[0m\u001b[0m\n\u001b[1;32m    531\u001b[0m             \u001b[0;31m# StringIO doesn't like amt=None\u001b[0m\u001b[0;34m\u001b[0m\u001b[0;34m\u001b[0m\u001b[0m\n\u001b[0;32m--> 532\u001b[0;31m             \u001b[0;32mreturn\u001b[0m \u001b[0mself\u001b[0m\u001b[0;34m.\u001b[0m\u001b[0m_fp\u001b[0m\u001b[0;34m.\u001b[0m\u001b[0mread\u001b[0m\u001b[0;34m(\u001b[0m\u001b[0mamt\u001b[0m\u001b[0;34m)\u001b[0m \u001b[0;32mif\u001b[0m \u001b[0mamt\u001b[0m \u001b[0;32mis\u001b[0m \u001b[0;32mnot\u001b[0m \u001b[0;32mNone\u001b[0m \u001b[0;32melse\u001b[0m \u001b[0mself\u001b[0m\u001b[0;34m.\u001b[0m\u001b[0m_fp\u001b[0m\u001b[0;34m.\u001b[0m\u001b[0mread\u001b[0m\u001b[0;34m(\u001b[0m\u001b[0;34m)\u001b[0m\u001b[0;34m\u001b[0m\u001b[0;34m\u001b[0m\u001b[0m\n\u001b[0m\u001b[1;32m    533\u001b[0m \u001b[0;34m\u001b[0m\u001b[0m\n\u001b[1;32m    534\u001b[0m     \u001b[0;32mdef\u001b[0m \u001b[0mread\u001b[0m\u001b[0;34m(\u001b[0m\u001b[0mself\u001b[0m\u001b[0;34m,\u001b[0m \u001b[0mamt\u001b[0m\u001b[0;34m=\u001b[0m\u001b[0;32mNone\u001b[0m\u001b[0;34m,\u001b[0m \u001b[0mdecode_content\u001b[0m\u001b[0;34m=\u001b[0m\u001b[0;32mNone\u001b[0m\u001b[0;34m,\u001b[0m \u001b[0mcache_content\u001b[0m\u001b[0;34m=\u001b[0m\u001b[0;32mFalse\u001b[0m\u001b[0;34m)\u001b[0m\u001b[0;34m:\u001b[0m\u001b[0;34m\u001b[0m\u001b[0;34m\u001b[0m\u001b[0m\n",
      "\u001b[0;32m~/opt/anaconda3/lib/python3.9/http/client.py\u001b[0m in \u001b[0;36mread\u001b[0;34m(self, amt)\u001b[0m\n\u001b[1;32m    461\u001b[0m             \u001b[0;31m# Amount is given, implement using readinto\u001b[0m\u001b[0;34m\u001b[0m\u001b[0;34m\u001b[0m\u001b[0m\n\u001b[1;32m    462\u001b[0m             \u001b[0mb\u001b[0m \u001b[0;34m=\u001b[0m \u001b[0mbytearray\u001b[0m\u001b[0;34m(\u001b[0m\u001b[0mamt\u001b[0m\u001b[0;34m)\u001b[0m\u001b[0;34m\u001b[0m\u001b[0;34m\u001b[0m\u001b[0m\n\u001b[0;32m--> 463\u001b[0;31m             \u001b[0mn\u001b[0m \u001b[0;34m=\u001b[0m \u001b[0mself\u001b[0m\u001b[0;34m.\u001b[0m\u001b[0mreadinto\u001b[0m\u001b[0;34m(\u001b[0m\u001b[0mb\u001b[0m\u001b[0;34m)\u001b[0m\u001b[0;34m\u001b[0m\u001b[0;34m\u001b[0m\u001b[0m\n\u001b[0m\u001b[1;32m    464\u001b[0m             \u001b[0;32mreturn\u001b[0m \u001b[0mmemoryview\u001b[0m\u001b[0;34m(\u001b[0m\u001b[0mb\u001b[0m\u001b[0;34m)\u001b[0m\u001b[0;34m[\u001b[0m\u001b[0;34m:\u001b[0m\u001b[0mn\u001b[0m\u001b[0;34m]\u001b[0m\u001b[0;34m.\u001b[0m\u001b[0mtobytes\u001b[0m\u001b[0;34m(\u001b[0m\u001b[0;34m)\u001b[0m\u001b[0;34m\u001b[0m\u001b[0;34m\u001b[0m\u001b[0m\n\u001b[1;32m    465\u001b[0m         \u001b[0;32melse\u001b[0m\u001b[0;34m:\u001b[0m\u001b[0;34m\u001b[0m\u001b[0;34m\u001b[0m\u001b[0m\n",
      "\u001b[0;32m~/opt/anaconda3/lib/python3.9/http/client.py\u001b[0m in \u001b[0;36mreadinto\u001b[0;34m(self, b)\u001b[0m\n\u001b[1;32m    505\u001b[0m         \u001b[0;31m# connection, and the user is reading more bytes than will be provided\u001b[0m\u001b[0;34m\u001b[0m\u001b[0;34m\u001b[0m\u001b[0m\n\u001b[1;32m    506\u001b[0m         \u001b[0;31m# (for example, reading in 1k chunks)\u001b[0m\u001b[0;34m\u001b[0m\u001b[0;34m\u001b[0m\u001b[0m\n\u001b[0;32m--> 507\u001b[0;31m         \u001b[0mn\u001b[0m \u001b[0;34m=\u001b[0m \u001b[0mself\u001b[0m\u001b[0;34m.\u001b[0m\u001b[0mfp\u001b[0m\u001b[0;34m.\u001b[0m\u001b[0mreadinto\u001b[0m\u001b[0;34m(\u001b[0m\u001b[0mb\u001b[0m\u001b[0;34m)\u001b[0m\u001b[0;34m\u001b[0m\u001b[0;34m\u001b[0m\u001b[0m\n\u001b[0m\u001b[1;32m    508\u001b[0m         \u001b[0;32mif\u001b[0m \u001b[0;32mnot\u001b[0m \u001b[0mn\u001b[0m \u001b[0;32mand\u001b[0m \u001b[0mb\u001b[0m\u001b[0;34m:\u001b[0m\u001b[0;34m\u001b[0m\u001b[0;34m\u001b[0m\u001b[0m\n\u001b[1;32m    509\u001b[0m             \u001b[0;31m# Ideally, we would raise IncompleteRead if the content-length\u001b[0m\u001b[0;34m\u001b[0m\u001b[0;34m\u001b[0m\u001b[0m\n",
      "\u001b[0;32m~/opt/anaconda3/lib/python3.9/socket.py\u001b[0m in \u001b[0;36mreadinto\u001b[0;34m(self, b)\u001b[0m\n\u001b[1;32m    702\u001b[0m         \u001b[0;32mwhile\u001b[0m \u001b[0;32mTrue\u001b[0m\u001b[0;34m:\u001b[0m\u001b[0;34m\u001b[0m\u001b[0;34m\u001b[0m\u001b[0m\n\u001b[1;32m    703\u001b[0m             \u001b[0;32mtry\u001b[0m\u001b[0;34m:\u001b[0m\u001b[0;34m\u001b[0m\u001b[0;34m\u001b[0m\u001b[0m\n\u001b[0;32m--> 704\u001b[0;31m                 \u001b[0;32mreturn\u001b[0m \u001b[0mself\u001b[0m\u001b[0;34m.\u001b[0m\u001b[0m_sock\u001b[0m\u001b[0;34m.\u001b[0m\u001b[0mrecv_into\u001b[0m\u001b[0;34m(\u001b[0m\u001b[0mb\u001b[0m\u001b[0;34m)\u001b[0m\u001b[0;34m\u001b[0m\u001b[0;34m\u001b[0m\u001b[0m\n\u001b[0m\u001b[1;32m    705\u001b[0m             \u001b[0;32mexcept\u001b[0m \u001b[0mtimeout\u001b[0m\u001b[0;34m:\u001b[0m\u001b[0;34m\u001b[0m\u001b[0;34m\u001b[0m\u001b[0m\n\u001b[1;32m    706\u001b[0m                 \u001b[0mself\u001b[0m\u001b[0;34m.\u001b[0m\u001b[0m_timeout_occurred\u001b[0m \u001b[0;34m=\u001b[0m \u001b[0;32mTrue\u001b[0m\u001b[0;34m\u001b[0m\u001b[0;34m\u001b[0m\u001b[0m\n",
      "\u001b[0;32m~/opt/anaconda3/lib/python3.9/ssl.py\u001b[0m in \u001b[0;36mrecv_into\u001b[0;34m(self, buffer, nbytes, flags)\u001b[0m\n\u001b[1;32m   1240\u001b[0m                   \u001b[0;34m\"non-zero flags not allowed in calls to recv_into() on %s\"\u001b[0m \u001b[0;34m%\u001b[0m\u001b[0;34m\u001b[0m\u001b[0;34m\u001b[0m\u001b[0m\n\u001b[1;32m   1241\u001b[0m                   self.__class__)\n\u001b[0;32m-> 1242\u001b[0;31m             \u001b[0;32mreturn\u001b[0m \u001b[0mself\u001b[0m\u001b[0;34m.\u001b[0m\u001b[0mread\u001b[0m\u001b[0;34m(\u001b[0m\u001b[0mnbytes\u001b[0m\u001b[0;34m,\u001b[0m \u001b[0mbuffer\u001b[0m\u001b[0;34m)\u001b[0m\u001b[0;34m\u001b[0m\u001b[0;34m\u001b[0m\u001b[0m\n\u001b[0m\u001b[1;32m   1243\u001b[0m         \u001b[0;32melse\u001b[0m\u001b[0;34m:\u001b[0m\u001b[0;34m\u001b[0m\u001b[0;34m\u001b[0m\u001b[0m\n\u001b[1;32m   1244\u001b[0m             \u001b[0;32mreturn\u001b[0m \u001b[0msuper\u001b[0m\u001b[0;34m(\u001b[0m\u001b[0;34m)\u001b[0m\u001b[0;34m.\u001b[0m\u001b[0mrecv_into\u001b[0m\u001b[0;34m(\u001b[0m\u001b[0mbuffer\u001b[0m\u001b[0;34m,\u001b[0m \u001b[0mnbytes\u001b[0m\u001b[0;34m,\u001b[0m \u001b[0mflags\u001b[0m\u001b[0;34m)\u001b[0m\u001b[0;34m\u001b[0m\u001b[0;34m\u001b[0m\u001b[0m\n",
      "\u001b[0;32m~/opt/anaconda3/lib/python3.9/ssl.py\u001b[0m in \u001b[0;36mread\u001b[0;34m(self, len, buffer)\u001b[0m\n\u001b[1;32m   1098\u001b[0m         \u001b[0;32mtry\u001b[0m\u001b[0;34m:\u001b[0m\u001b[0;34m\u001b[0m\u001b[0;34m\u001b[0m\u001b[0m\n\u001b[1;32m   1099\u001b[0m             \u001b[0;32mif\u001b[0m \u001b[0mbuffer\u001b[0m \u001b[0;32mis\u001b[0m \u001b[0;32mnot\u001b[0m \u001b[0;32mNone\u001b[0m\u001b[0;34m:\u001b[0m\u001b[0;34m\u001b[0m\u001b[0;34m\u001b[0m\u001b[0m\n\u001b[0;32m-> 1100\u001b[0;31m                 \u001b[0;32mreturn\u001b[0m \u001b[0mself\u001b[0m\u001b[0;34m.\u001b[0m\u001b[0m_sslobj\u001b[0m\u001b[0;34m.\u001b[0m\u001b[0mread\u001b[0m\u001b[0;34m(\u001b[0m\u001b[0mlen\u001b[0m\u001b[0;34m,\u001b[0m \u001b[0mbuffer\u001b[0m\u001b[0;34m)\u001b[0m\u001b[0;34m\u001b[0m\u001b[0;34m\u001b[0m\u001b[0m\n\u001b[0m\u001b[1;32m   1101\u001b[0m             \u001b[0;32melse\u001b[0m\u001b[0;34m:\u001b[0m\u001b[0;34m\u001b[0m\u001b[0;34m\u001b[0m\u001b[0m\n\u001b[1;32m   1102\u001b[0m                 \u001b[0;32mreturn\u001b[0m \u001b[0mself\u001b[0m\u001b[0;34m.\u001b[0m\u001b[0m_sslobj\u001b[0m\u001b[0;34m.\u001b[0m\u001b[0mread\u001b[0m\u001b[0;34m(\u001b[0m\u001b[0mlen\u001b[0m\u001b[0;34m)\u001b[0m\u001b[0;34m\u001b[0m\u001b[0;34m\u001b[0m\u001b[0m\n",
      "\u001b[0;31mKeyboardInterrupt\u001b[0m: "
     ]
    }
   ],
   "source": [
    "for file in trainval_files:\n",
    "    download_file(base_url_trainval + file, directory)"
   ]
  },
  {
   "cell_type": "code",
   "execution_count": null,
   "metadata": {},
   "outputs": [],
   "source": [
    "for file in test_files:\n",
    "    download_file(base_url_test + file, directory)"
   ]
  }
 ],
 "metadata": {
  "kernelspec": {
   "display_name": "base",
   "language": "python",
   "name": "python3"
  },
  "language_info": {
   "codemirror_mode": {
    "name": "ipython",
    "version": 3
   },
   "file_extension": ".py",
   "mimetype": "text/x-python",
   "name": "python",
   "nbconvert_exporter": "python",
   "pygments_lexer": "ipython3",
   "version": "3.9.13"
  },
  "orig_nbformat": 4
 },
 "nbformat": 4,
 "nbformat_minor": 2
}
