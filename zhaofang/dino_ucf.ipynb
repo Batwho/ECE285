{
  "cells": [
    {
      "attachments": {},
      "cell_type": "markdown",
      "id": "q_b_ifobbjU7",
      "metadata": {
        "id": "q_b_ifobbjU7"
      },
      "source": [
        "#Code for ViViT model [[paper]](https://arxiv.org/abs/2103.15691)\n"
      ]
    },
    {
      "attachments": {},
      "cell_type": "markdown",
      "id": "rkt-0enhb0qG",
      "metadata": {
        "id": "rkt-0enhb0qG"
      },
      "source": [
        "## Imports and Global declarations"
      ]
    },
    {
      "cell_type": "code",
      "execution_count": 1,
      "id": "angry-effectiveness",
      "metadata": {
        "id": "angry-effectiveness"
      },
      "outputs": [],
      "source": [
        "# Imports\n",
        "\n",
        "import torch\n",
        "from torch import nn, einsum\n",
        "from torch.nn import functional as F\n",
        "from torch.utils.tensorboard import SummaryWriter\n",
        "import torchvision as tv\n",
        "from torch.utils.data import random_split, DataLoader,Dataset\n",
        "\n",
        "import os\n",
        "import time\n",
        "import random\n",
        "import math\n",
        "\n",
        "# !pip install einops icecream\n",
        "import decord\n",
        "import numpy as np\n",
        "import gc\n",
        "from einops import rearrange, repeat,reduce\n",
        "from einops.layers.torch import Rearrange\n",
        "from PIL import Image\n",
        "from tqdm.notebook import tqdm\n",
        "from icecream import ic\n",
        "import matplotlib.pyplot as plt\n",
        "%matplotlib inline"
      ]
    },
    {
      "cell_type": "code",
      "execution_count": 2,
      "id": "8ifOyxNa5Cnp",
      "metadata": {
        "id": "8ifOyxNa5Cnp"
      },
      "outputs": [
        {
          "data": {
            "text/plain": [
              "'cuda:0'"
            ]
          },
          "execution_count": 2,
          "metadata": {},
          "output_type": "execute_result"
        }
      ],
      "source": [
        "# set device\n",
        "device ='cuda:0' if torch.cuda.is_available() else 'cpu'\n",
        "device"
      ]
    },
    {
      "cell_type": "code",
      "execution_count": 3,
      "id": "C9gk3l2-rSt1",
      "metadata": {
        "id": "C9gk3l2-rSt1"
      },
      "outputs": [],
      "source": [
        "# Instantiate tensorboard writer\n",
        "tb_writer = SummaryWriter()"
      ]
    },
    {
      "attachments": {},
      "cell_type": "markdown",
      "id": "yDjl36ascCbH",
      "metadata": {
        "id": "yDjl36ascCbH"
      },
      "source": [
        "## DataLoader for UCF101 dataset "
      ]
    },
    {
      "cell_type": "code",
      "execution_count": 3,
      "id": "rational-neutral",
      "metadata": {
        "id": "rational-neutral"
      },
      "outputs": [],
      "source": [
        "# dataset params\n",
        "frames_per_clip = 8\n",
        "dataset_dir=\"./ucf/UCF101TrainTestSplits-RecognitionTask/ucfTrainTestlist\"\n",
        "video_dir = \"./ucf/UCF101/UCF-101\""
      ]
    },
    {
      "cell_type": "code",
      "execution_count": 4,
      "id": "documentary-python",
      "metadata": {
        "id": "documentary-python"
      },
      "outputs": [],
      "source": [
        "# Dataset Class\n",
        "class UCFDataset(torch.utils.data.Dataset):\n",
        "    \"\"\"\n",
        "    Dataset Class for reading UCF101 dataset  \n",
        "    \n",
        "    Args:\n",
        "        dataset_dir: (str) - root directory of dataset\n",
        "        subset: (str) - train or test subset\n",
        "        video_list_file: (str) - file name containing list of video names \n",
        "        frames_per_clip: (int) - number of frames to be read in every video clip [default:16]\n",
        "    \"\"\"\n",
        "\n",
        "    def __init__(self, dataset_dir, subset, video_list_file, frames_per_clip=16):\n",
        "        super().__init__()\n",
        "        self.dataset_dir = dataset_dir\n",
        "        self.video_dir = video_dir\n",
        "        self.subset=subset\n",
        "        self.video_list_file = video_list_file\n",
        "        self.video_list = []\n",
        "        self.labels = []\n",
        "        self.indices = []\n",
        "\n",
        "        for i in [1,2,3]:\n",
        "            with open(f'{dataset_dir}/{video_list_file}{str(i)}.txt') as video_names_file:\n",
        "                if self.subset==\"train\":\n",
        "                    tempvideo_list,templabels = zip(*(files[:-1].split() for files in video_names_file.readlines()))\n",
        "                    self.video_list += tempvideo_list\n",
        "                    self.labels += templabels\n",
        "                else:\n",
        "                    tempvideo_list = [files[:-1] for files in video_names_file.readlines()]\n",
        "                    templabels = [None]\n",
        "                    self.video_list += tempvideo_list\n",
        "                    self.labels += templabels\n",
        "                    # with open(f'{dataset_dir}/classInd.txt') as classIndices:\n",
        "                    #     values,keys=zip(*(files[:-1].split() for files in classIndices.readlines()))\n",
        "                    #     tempindices = dict( (k,v) for k,v in zip(keys,values))\n",
        "                    \n",
        "            \n",
        "            #self.indices.append(tempindices)\n",
        "        \n",
        "\n",
        "        self.frames_per_clip = frames_per_clip\n",
        "\n",
        "        self.transform = tv.transforms.Compose([\n",
        "          tv.transforms.GaussianBlur(9, sigma=(0.1, 2.0)),\n",
        "          tv.transforms.Resize(256,interpolation=tv.transforms.InterpolationMode.BICUBIC),\n",
        "          tv.transforms.CenterCrop(224),\n",
        "          tv.transforms.ToTensor(),\n",
        "          tv.transforms.Normalize(mean=(0.485, 0.456, 0.406), std=(0.229, 0.224, 0.225)),\n",
        "        ])\n",
        "\n",
        "    def __len__(self):\n",
        "        return len(self.video_list)\n",
        "\n",
        "    def __getitem__(self, idx):\n",
        "        videoname = f'{self.video_list[idx]}'\n",
        "        vid = decord.VideoReader(f'{self.video_dir}/{videoname}', ctx=decord.cpu(0))\n",
        "        nframes = len(vid)\n",
        "\n",
        "        # if number of frames of video is less than frames_per_clip, repeat the frames\n",
        "        if nframes <= self.frames_per_clip:\n",
        "            idxs = np.arange(0, self.frames_per_clip).astype(np.int32)\n",
        "            idxs[nframes:] %= nframes\n",
        "\n",
        "        # else if frames_per_clip is greater, sample uniformly seperated frames\n",
        "        else:\n",
        "            idxs = np.linspace(0, nframes-1, self.frames_per_clip)\n",
        "            idxs = np.round(idxs).astype(np.int32)\n",
        "\n",
        "        imgs = []\n",
        "        for k in idxs:\n",
        "            frame = Image.fromarray(vid[k].asnumpy())\n",
        "            frame = self.transform(frame)\n",
        "            imgs.append(frame)\n",
        "        imgs = torch.stack(imgs)\n",
        "\n",
        "        # if its train subset, return both the frames and the label \n",
        "        if self.subset==\"train\":\n",
        "            label = int(self.labels[idx]) - 1    \n",
        "        # else, for test subset, read the label index\n",
        "        else:\n",
        "            with open(f'{dataset_dir}/classInd.txt') as classIndices:\n",
        "                label=int(classIndices[videoname.split('/')[0]])\n",
        "        return imgs,label"
      ]
    },
    {
      "cell_type": "code",
      "execution_count": 5,
      "id": "6zXGDy7QCpHy",
      "metadata": {
        "id": "6zXGDy7QCpHy"
      },
      "outputs": [
        {
          "name": "stdout",
          "output_type": "stream",
          "text": [
            "Train samples: 24434\n",
            "Validation samples: 4313\n",
            "Test samples: 11213\n"
          ]
        }
      ],
      "source": [
        "#Instantiate and create train-val-test split\n",
        "\n",
        "train_val_data = UCFDataset( dataset_dir = dataset_dir, subset=\"train\", video_list_file=\"trainlist0\",frames_per_clip=frames_per_clip)\n",
        "\n",
        "train_len=int(0.85*len(train_val_data))\n",
        "train_val_split = [ train_len, len(train_val_data) - train_len ] \n",
        "\n",
        "train_data , val_data = random_split(train_val_data,train_val_split)\n",
        "test_data = UCFDataset( dataset_dir = dataset_dir, subset=\"test\", video_list_file=\"testlist0\" ,frames_per_clip=frames_per_clip)\n",
        "\n",
        "print(f\"Train samples: {len(train_data)}\")\n",
        "print(f\"Validation samples: {len(val_data)}\")\n",
        "print(f\"Test samples: {len(test_data)}\")\n"
      ]
    },
    {
      "cell_type": "code",
      "execution_count": 7,
      "id": "rotary-ladder",
      "metadata": {
        "id": "rotary-ladder",
        "scrolled": true
      },
      "outputs": [
        {
          "name": "stderr",
          "output_type": "stream",
          "text": [
            "Clipping input data to the valid range for imshow with RGB data ([0..1] for floats or [0..255] for integers).\n"
          ]
        },
        {
          "name": "stdout",
          "output_type": "stream",
          "text": [
            "torch.Size([8, 3, 224, 224])\n",
            "19\n"
          ]
        },
        {
          "data": {
            "image/png": "[encoded data removed]",
            "text/plain": [
              "<Figure size 640x480 with 1 Axes>"
            ]
          },
          "metadata": {},
          "output_type": "display_data"
        }
      ],
      "source": [
        "#example frame from a random video to check if dataloader's working properly\n",
        "plt.imshow(((train_data[35][0][0].permute(1,2,0)*255).int()).numpy())\n",
        "print(train_data[35][0].shape)  #Size([8, 3, 224, 224])\n",
        "print(train_data[35][1])        # label"
      ]
    },
    {
      "cell_type": "code",
      "execution_count": 6,
      "id": "adapted-aviation",
      "metadata": {
        "id": "adapted-aviation"
      },
      "outputs": [],
      "source": [
        "# data loading params\n",
        "batch_size = 256\n",
        "test_batch_size = 1\n",
        "num_workers = 8\n",
        "pin_memory = True\n",
        "num_classes=101"
      ]
    },
    {
      "cell_type": "code",
      "execution_count": 7,
      "id": "accepting-payment",
      "metadata": {
        "id": "accepting-payment"
      },
      "outputs": [],
      "source": [
        "# Dataloaders\n",
        "train_loader = DataLoader(train_data, batch_size=batch_size, shuffle=True)\n",
        "val_loader = DataLoader(val_data, batch_size=test_batch_size)\n",
        "test_loader = DataLoader(test_data, batch_size=test_batch_size)"
      ]
    },
    {
      "attachments": {},
      "cell_type": "markdown",
      "id": "YqviNYNCLiW4",
      "metadata": {
        "id": "YqviNYNCLiW4"
      },
      "source": [
        "## Model definition"
      ]
    },
    {
      "cell_type": "code",
      "execution_count": 8,
      "id": "comparable-crack",
      "metadata": {
        "id": "comparable-crack"
      },
      "outputs": [],
      "source": [
        "class MLP(nn.Module):\n",
        "    \"\"\"\n",
        "    Builds a simple feed forward network\n",
        "    \n",
        "    Args:\n",
        "        dim: (int) - inner dimension of| embeddings \n",
        "        inner_dim: (int) - dimension of transformer head  \n",
        "    \n",
        "    \"\"\"\n",
        "\n",
        "    def __init__(self, dim, inner_dim,n_class,encoder):     #dim would be the output image feature from dinov2\n",
        "                                                        \n",
        "        super().__init__()\n",
        "        # mlp with GELU activation function\n",
        "        self.encoder = encoder\n",
        "        self.mlp = nn.Sequential(\n",
        "            nn.Linear(dim, inner_dim),\n",
        "            nn.GELU(),\n",
        "            nn.Dropout(0.5),\n",
        "            #nn.Linear(inner_dim, inner_dim),\n",
        "            #nn.GELU(),\n",
        "            nn.Linear(inner_dim, n_class),\n",
        "            nn.Dropout(0.5)\n",
        "        )\n",
        "\n",
        "    def forward(self, x):\n",
        "        # x is [16,8,3,224,224]\n",
        "        avg = []\n",
        "        \n",
        "        for i in range(8):\n",
        "            xi = x[:,i,:]\n",
        "            \n",
        "            #encode x to [8,384]\n",
        "            e = []\n",
        "            with torch.no_grad():\n",
        "                # features_dict = self.encoder.forward_features(xi)\n",
        "                # e = features_dict['x_norm_patchtokens']\n",
        "                e = self.encoder(xi).reshape(x.shape[0],1,384)\n",
        "            avg.append(e)\n",
        "        avg = torch.cat(avg,dim=1)    \n",
        "        \n",
        "               \n",
        "        avg = reduce(avg, \"f t c -> f c\",'mean')        #[16,384]\n",
        "        \n",
        "        return self.mlp(avg)"
      ]
    },
    {
      "cell_type": "code",
      "execution_count": null,
      "id": "outer-stack",
      "metadata": {
        "id": "outer-stack"
      },
      "outputs": [],
      "source": [
        "# class Attention(nn.Module):\n",
        "#     \"\"\"\n",
        "#     Builds a Self Attention Module, however, could be modified to make other attention modules too.\n",
        "    \n",
        "#     Args:\n",
        "#         dim: (int) - inner dimension of embeddings[default:192] \n",
        "#         heads: (int) - number of attention heads[default:8] \n",
        "#         dim_head: (int) - dimension of transformer head [default:64] \n",
        "    \n",
        "#     \"\"\"\n",
        "\n",
        "#     def __init__(self, dim = 192, heads = 8, dim_head = 64):\n",
        "#         super().__init__()\n",
        "#         inner_dim = dim_head *  heads\n",
        "\n",
        "#         self.heads = heads\n",
        "#         self.scale = dim_head ** -0.5\n",
        "\n",
        "#         # nn.Linear from 192 to (8*64)*3\n",
        "#         self.make_qkv = nn.Linear(dim, inner_dim * 3, bias = False)\n",
        "\n",
        "#         # Linear projection to required output dimension\n",
        "#         self.get_output = nn.Sequential(nn.Linear(inner_dim, dim))\n",
        "        \n",
        "\n",
        "#     def forward(self, x):\n",
        "\n",
        "#         b, n, _ = x.shape   # b=batch_size , n=197 \n",
        "#         h = self.heads      # h=8\n",
        "\n",
        "#         # nn.Linear from 192 to 256*3 & then split it across q,k & v each with last dimension as 256\n",
        "#         qkv = self.make_qkv(x).chunk(3, dim = -1)\n",
        "        \n",
        "#         # reshaping to get the right q,k,v dimensions having 8 attn_heads(h)\n",
        "#         q, k, v = map(lambda t: rearrange(t, 'b n (h d) -> b h n d', h = h), qkv)\n",
        "\n",
        "#         # dot product of q & k after transposing k followed by a softmax layer\n",
        "#         dots = einsum('b h i d, b h j d -> b h i j', q, k) * self.scale     # q.kT / sqrt(d)\n",
        "#         attn = dots.softmax(dim=-1)\n",
        "\n",
        "#         # dot product of attention layer with v\n",
        "#         output = einsum('b h i j, b h j d -> b h i d', attn, v)\n",
        "\n",
        "#         # Final reshaping & nn.Linear to combine all attention head outputs to get final out.\n",
        "#         output = rearrange(output, 'b h n d -> b n (h d)')\n",
        "        \n",
        "#         output =  self.get_output(output)    \n",
        "#         # output shape = ( b, n, dim (=192) )\n",
        "\n",
        "#         return output  "
      ]
    },
    {
      "cell_type": "code",
      "execution_count": null,
      "id": "variable-harvest",
      "metadata": {
        "id": "variable-harvest"
      },
      "outputs": [],
      "source": [
        "# class Transformer(nn.Module):\n",
        "#     \"\"\"\n",
        "#     Builds a Transformer Model. Could be used as a Spatial or Temporal transformer.\n",
        "    \n",
        "#     Args:\n",
        "#         dim: (int) - inner dimension of embeddings \n",
        "#         depth: (int) - depth of the transformer \n",
        "#         heads: (int) - number of attention heads [default:8] \n",
        "#         dim_head: (int) - dimension of transformer head [default:64] \n",
        "#         mlp_dim: (int) - scaling dimension for attention [default:768] \n",
        "    \n",
        "#     \"\"\"\n",
        "\n",
        "#     def __init__(self, dim, depth, heads=8, dim_head=64, mlp_dim=768):\n",
        "#         super().__init__()\n",
        "        \n",
        "#         self.model_layers = nn.ModuleList([])\n",
        "#         for i in range(depth):\n",
        "#             self.model_layers.append(nn.ModuleList([\n",
        "#                 nn.LayerNorm(dim),\n",
        "#                 Attention(dim, heads, dim_head),\n",
        "#                 nn.LayerNorm(dim),\n",
        "#                 MLP(dim, mlp_dim)\n",
        "#             ]))\n",
        "\n",
        "#         self.layer_norm = nn.LayerNorm(dim)\n",
        "    \n",
        "#     def forward(self, x):\n",
        "\n",
        "#         for layer_norm1, attention, layer_norm2, ff_net in self.model_layers:\n",
        "#             x = attention(layer_norm1(x)) + x\n",
        "#             x = ff_net(layer_norm2(x)) + x\n",
        "\n",
        "#         return self.layer_norm(x)"
      ]
    },
    {
      "attachments": {},
      "cell_type": "markdown",
      "id": "E-YBjPM2YN0U",
      "metadata": {
        "id": "E-YBjPM2YN0U"
      },
      "source": [
        "Referred from [this](https://github.com/rishikksh20/ViViT-pytorc) unofficial implementation\n"
      ]
    },
    {
      "cell_type": "code",
      "execution_count": null,
      "id": "afraid-train",
      "metadata": {
        "id": "afraid-train"
      },
      "outputs": [],
      "source": [
        "# class ViViT(nn.Module):\n",
        "#     \"\"\"\n",
        "#     Builds a ViViT Model for video action recognition\n",
        "#     The line-by-line comments are for default values of arguments  \n",
        "    \n",
        "#     Args:\n",
        "#         image_size: (int) - size of input image\n",
        "#         patch_size: (int) - size of each patch of the image \n",
        "#         num_classes: (int) - number of classes in the dataset\n",
        "#         frames_per_clip: (int) - number of frames in every video clip. [default:16] \n",
        "#         dim: (int) - inner dimension of embeddings[default:192] \n",
        "#         depth: (int) - depth of the transformer[default:4] \n",
        "#         heads: (int) - number of attention heads for the transformer[default:8] \n",
        "#         pooling: (str) - type of pooling[default:'mean'] \n",
        "#         in_channels: (int) - number of input channels for each frame [default:3] \n",
        "#         dim_head: (int) - dimension of transformer head [default:64] \n",
        "#         scale_dim: (int) - scaling dimension for attention [default:4] \n",
        "    \n",
        "#     \"\"\"\n",
        "\n",
        "#     def __init__(self, image_size, patch_size, num_classes, frames_per_clip=16, dim = 192, depth = 4, heads = 8, pooling = 'mean', in_channels = 3, dim_head = 64, scale_dim = 4, ):\n",
        "        \n",
        "#         super().__init__()\n",
        "\n",
        "#         num_patches = (image_size // patch_size) ** 2   # => 196 for 224x224 images\n",
        "#         patch_dim = in_channels * patch_size ** 2      # => 3*16*16\n",
        "\n",
        "#         self.get_patch_emb = nn.Sequential(\n",
        "#             # input h = 14, w=14, c=3, p1=16, p2=16\n",
        "#             # reshape from (batch_size, frames, channels, 224, 224) to  (batch_size, frames, 14*14, 16*16*3 )\n",
        "#             Rearrange('b t c (h p1) (w p2) -> b t (h w) (p1 p2 c)', p1 = patch_size, p2 = patch_size),  \n",
        "\n",
        "#             # fully connected from 16*16*3 to 192 for every patch in (batch_size, frames) \n",
        "#             nn.Linear(patch_dim, dim),\n",
        "#         )\n",
        "\n",
        "#         # position embeddings of shape: (1, frames_per_clip = 16, num_patches + 1 = 197, 192)\n",
        "#         self.pos_embedding = nn.Parameter(torch.randn(1, frames_per_clip, num_patches + 1, dim))\n",
        "\n",
        "#         # space (i.e. for each image) tokens of shape: (1, 1, 192). The 192 is the tokens obtained in \"get_patch_emb\" \n",
        "#         self.spatial_token = nn.Parameter(torch.randn(1, 1, dim))\n",
        "        \n",
        "#         # spatial transformer ViT\n",
        "#         self.spatial_transformer = Transformer(dim, depth, heads, dim_head, dim*scale_dim)\n",
        "\n",
        "#         # time dimention tokens of shape: (1, 1, 192). \n",
        "#         self.temporal_token = nn.Parameter(torch.randn(1, 1, dim))\n",
        "        \n",
        "#         # temporal transformer which takes in spacetransformer's output tokens as the input. \n",
        "#         self.temporal_transformer = Transformer(dim, depth, heads, dim_head, dim*scale_dim)\n",
        "\n",
        "#         # pooling type, could be \"mean\" or \"cls\"\n",
        "#         self.pooling = pooling\n",
        "\n",
        "#         # mlp head for final classification\n",
        "#         self.classifier_head = nn.Sequential(\n",
        "#             nn.LayerNorm(dim),\n",
        "#             nn.Linear(dim, num_classes),\n",
        "#             nn.Softmax(dim=1)\n",
        "#         )\n",
        "\n",
        "#     def forward(self, x):\n",
        "\n",
        "#         # get patch embeddings\n",
        "#         x = self.get_patch_emb(x)\n",
        "\n",
        "#         # b = batch_size , t = frames , n = number of patch embeddings= 14*14 , e = embedding size\n",
        "#         b, t, n, e = x.shape     # x.shape = (b, t, 196, 192) \n",
        "\n",
        "#         # prepare cls_token for space transformers\n",
        "#         spatial_cls_tokens = repeat(self.spatial_token, '() n d -> b t n d', b = b, t=t)\n",
        "\n",
        "#         # concatenate cls_token to the patch embedding\n",
        "#         x = torch.cat((spatial_cls_tokens, x), dim=2)     # => x shape = ( b, t, 197 ,192)\n",
        "\n",
        "#         # add position embedding info \n",
        "#         x += self.pos_embedding[:, :, :(n + 1)]\n",
        "\n",
        "#         # club together the b & t dimension \n",
        "#         x = rearrange(x, 'b t n d -> (b t) n d')\n",
        "\n",
        "#         # pass through spatial transformer\n",
        "#         x = self.spatial_transformer(x)\n",
        "\n",
        "#         # declub b & t dimensions\n",
        "#         x = rearrange(x[:, 0], '(b t) ... -> b t ...', b=b)\n",
        "\n",
        "#         # prepare cls_token for temporal transformers & concatenate cls_token to the patch embedding\n",
        "#         temporal_cls_tokens = repeat(self.temporal_token, '() n d -> b n d', b=b)\n",
        "#         x = torch.cat((temporal_cls_tokens, x), dim=1)\n",
        "\n",
        "#         # pass through spatial transformer\n",
        "#         x = self.temporal_transformer(x)\n",
        "        \n",
        "#         # if pooling is mean, then use mean of all 197 as the output, else use output corresponding to cls token as the final x\n",
        "#         if self.pooling == 'mean':\n",
        "#             x = x.mean(dim = 1) #( b, n, dim (=192) )\n",
        "#         else:\n",
        "#              x[:, 0] #( b, n, dim (=192) )\n",
        "\n",
        "#         # pass through MLP classification layer\n",
        "#         return self.classifier_head(x)"
      ]
    },
    {
      "cell_type": "code",
      "execution_count": 9,
      "id": "economic-limitation",
      "metadata": {
        "id": "economic-limitation"
      },
      "outputs": [
        {
          "name": "stderr",
          "output_type": "stream",
          "text": [
            "Using cache found in /home/z3qian/.cache/torch/hub/facebookresearch_dinov2_main\n"
          ]
        },
        {
          "data": {
            "text/plain": [
              "MLP(\n",
              "  (encoder): DinoVisionTransformer(\n",
              "    (patch_embed): PatchEmbed(\n",
              "      (proj): Conv2d(3, 384, kernel_size=(14, 14), stride=(14, 14))\n",
              "      (norm): Identity()\n",
              "    )\n",
              "    (blocks): ModuleList(\n",
              "      (0-11): 12 x NestedTensorBlock(\n",
              "        (norm1): LayerNorm((384,), eps=1e-06, elementwise_affine=True)\n",
              "        (attn): MemEffAttention(\n",
              "          (qkv): Linear(in_features=384, out_features=1152, bias=True)\n",
              "          (attn_drop): Dropout(p=0.0, inplace=False)\n",
              "          (proj): Linear(in_features=384, out_features=384, bias=True)\n",
              "          (proj_drop): Dropout(p=0.0, inplace=False)\n",
              "        )\n",
              "        (ls1): LayerScale()\n",
              "        (drop_path1): Identity()\n",
              "        (norm2): LayerNorm((384,), eps=1e-06, elementwise_affine=True)\n",
              "        (mlp): Mlp(\n",
              "          (fc1): Linear(in_features=384, out_features=1536, bias=True)\n",
              "          (act): GELU(approximate='none')\n",
              "          (fc2): Linear(in_features=1536, out_features=384, bias=True)\n",
              "          (drop): Dropout(p=0.0, inplace=False)\n",
              "        )\n",
              "        (ls2): LayerScale()\n",
              "        (drop_path2): Identity()\n",
              "      )\n",
              "    )\n",
              "    (norm): LayerNorm((384,), eps=1e-06, elementwise_affine=True)\n",
              "    (head): Identity()\n",
              "  )\n",
              "  (mlp): Sequential(\n",
              "    (0): Linear(in_features=384, out_features=512, bias=True)\n",
              "    (1): GELU(approximate='none')\n",
              "    (2): Dropout(p=0.5, inplace=False)\n",
              "    (3): Linear(in_features=512, out_features=101, bias=True)\n",
              "    (4): Dropout(p=0.5, inplace=False)\n",
              "  )\n",
              ")"
            ]
          },
          "execution_count": 9,
          "metadata": {},
          "output_type": "execute_result"
        }
      ],
      "source": [
        "# instantiate model and plot on tensorboard\n",
        "#model = ViViT(image_size=224, patch_size=16, num_classes=num_classes, frames_per_clip=frames_per_clip)\n",
        "dinov2_vits14 = torch.hub.load('facebookresearch/dinov2', 'dinov2_vits14')\n",
        "dinov2_vits14.to(device)\n",
        "for param in dinov2_vits14.parameters():\n",
        "    param.requires_grad= False\n",
        "model = MLP(384,512,101,dinov2_vits14)\n",
        "#frames, _ = next(iter(train_loader))\n",
        "#tb_writer.add_graph(model, frames)\n",
        "model.to(device)"
      ]
    },
    {
      "attachments": {},
      "cell_type": "markdown",
      "id": "HiyjllqxL9bV",
      "metadata": {
        "id": "HiyjllqxL9bV"
      },
      "source": [
        "## Training utils "
      ]
    },
    {
      "cell_type": "code",
      "execution_count": 10,
      "id": "rY9aVH4pZM4D",
      "metadata": {
        "id": "rY9aVH4pZM4D"
      },
      "outputs": [],
      "source": [
        "# training hyper-params\n",
        "lr=0.001\n",
        "epochs = 20 "
      ]
    },
    {
      "cell_type": "code",
      "execution_count": 11,
      "id": "v3JiODtrd0j-",
      "metadata": {
        "id": "v3JiODtrd0j-"
      },
      "outputs": [],
      "source": [
        "# define the loss and optimizers\n",
        "loss_criterion = nn.CrossEntropyLoss()\n",
        "optimizer = torch.optim.SGD(model.parameters(), momentum=0.9, weight_decay=0,lr=lr)\n",
        "scheduler = torch.optim.lr_scheduler.CosineAnnealingLR(optimizer, 1_000_00, eta_min=0)\n",
        "#optimizer = torch.optim.Adam(model.parameters(),lr)\n",
        "#scheduler = torch.optim.lr_scheduler.StepLR(optimizer, step_size=1, gamma=0.95)\n"
      ]
    },
    {
      "cell_type": "code",
      "execution_count": 12,
      "id": "least-visitor",
      "metadata": {
        "id": "least-visitor"
      },
      "outputs": [],
      "source": [
        "# training step for every epoch\n",
        "def train_step(loader,epoch,):\n",
        "    \n",
        "    model.train()\n",
        "    total_epoch_loss=0\n",
        "    \n",
        "    for batch_id, (video_data,labels) in enumerate(loader):\n",
        "\n",
        "        # video_data,labels = video_data.to(device), labels.to(device)\n",
        "        video_data,labels = video_data.to(device), labels.to(device)\n",
        "        \n",
        "        optimizer.zero_grad()\n",
        "        \n",
        "        prediction = model(video_data)\n",
        "\n",
        "        loss = loss_criterion(prediction,labels)\n",
        "        total_epoch_loss += loss.item()\n",
        "\n",
        "        loss.backward()\n",
        "        \n",
        "        optimizer.step()\n",
        "\n",
        "        del video_data\n",
        "        del labels\n",
        "\n",
        "        gc.collect()\n",
        "        \n",
        "        #tb_writer.add_scalar(\"Train/Loss\",loss.item(),((len(loader))*(epoch-1))+batch_id)\n",
        " \n",
        "        print(f\"\\n[Train Epoch]: {epoch} Train Loss: {loss.item()}\")\n",
        "\n",
        "    return total_epoch_loss"
      ]
    },
    {
      "cell_type": "code",
      "execution_count": 13,
      "id": "elegant-tulsa",
      "metadata": {
        "id": "elegant-tulsa"
      },
      "outputs": [],
      "source": [
        "# validation step for every epoch\n",
        "def val_step(loader,epoch=None):\n",
        "\n",
        "    model.eval()\n",
        "    total_loss=0\n",
        "    corrects=0\n",
        "    \n",
        "    with torch.no_grad():\n",
        "        for batch_id, (video_data,labels) in enumerate(loader):\n",
        "\n",
        "            video_data,labels = (video_data).to(device), labels.to(device)\n",
        "\n",
        "            prediction = model(video_data)\n",
        "            \n",
        "            loss = loss_criterion(prediction,labels)\n",
        "            total_loss += loss.item()\n",
        "            corrects+= (torch.argmax(prediction,dim=1)==labels).sum()\n",
        "    \n",
        "    accuracy = corrects/(len(loader)*batch_size)\n",
        "    \n",
        "    print(f\"\\n[Val Epoch]: {epoch} , Accuracy: {accuracy}, Valid Loss: {loss.item()}\")\n",
        "    #tb_writer.add_scalar(\"Validation/Loss\",loss.item(),epoch)\n",
        "    #tb_writer.add_scalar(\"Validation/Accuracy\",accuracy,epoch)\n",
        "\n",
        "    return accuracy"
      ]
    },
    {
      "attachments": {},
      "cell_type": "markdown",
      "id": "MHl6bllSMGJX",
      "metadata": {
        "id": "MHl6bllSMGJX"
      },
      "source": [
        "## Train Loop"
      ]
    },
    {
      "cell_type": "code",
      "execution_count": 14,
      "id": "df7fe42b",
      "metadata": {},
      "outputs": [
        {
          "name": "stdout",
          "output_type": "stream",
          "text": [
            "mlp.0.weight\n",
            "mlp.0.bias\n",
            "mlp.3.weight\n",
            "mlp.3.bias\n"
          ]
        }
      ],
      "source": [
        "for name, param in model.named_parameters():\n",
        "    if param.requires_grad:\n",
        "        print(name)"
      ]
    },
    {
      "cell_type": "code",
      "execution_count": 15,
      "id": "worst-bedroom",
      "metadata": {
        "id": "worst-bedroom",
        "scrolled": true
      },
      "outputs": [
        {
          "data": {
            "application/vnd.jupyter.widget-view+json": {
              "model_id": "999814152e354cf1a4f1a0ae0f8ab294",
              "version_major": 2,
              "version_minor": 0
            },
            "text/plain": [
              "  0%|          | 0/20 [00:00<?, ?it/s]"
            ]
          },
          "metadata": {},
          "output_type": "display_data"
        },
        {
          "name": "stdout",
          "output_type": "stream",
          "text": [
            "\n",
            "[Train Epoch]: 1 Train Loss: 5.104419231414795\n",
            "\n",
            "[Train Epoch]: 1 Train Loss: 5.1691412925720215\n",
            "\n",
            "[Train Epoch]: 1 Train Loss: 5.155609130859375\n",
            "\n",
            "[Train Epoch]: 1 Train Loss: 5.087813854217529\n",
            "\n",
            "[Train Epoch]: 1 Train Loss: 5.252981185913086\n",
            "\n",
            "[Train Epoch]: 1 Train Loss: 5.1977152824401855\n",
            "\n",
            "[Train Epoch]: 1 Train Loss: 5.086484909057617\n",
            "\n",
            "[Train Epoch]: 1 Train Loss: 5.0551228523254395\n",
            "\n",
            "[Train Epoch]: 1 Train Loss: 5.063329219818115\n",
            "\n",
            "[Train Epoch]: 1 Train Loss: 4.995556831359863\n",
            "\n",
            "[Train Epoch]: 1 Train Loss: 5.00075626373291\n",
            "\n",
            "[Train Epoch]: 1 Train Loss: 4.951140403747559\n",
            "\n",
            "[Train Epoch]: 1 Train Loss: 4.98268985748291\n",
            "\n",
            "[Train Epoch]: 1 Train Loss: 4.978192329406738\n",
            "\n",
            "[Train Epoch]: 1 Train Loss: 4.858349800109863\n",
            "\n",
            "[Train Epoch]: 1 Train Loss: 4.840404510498047\n",
            "\n",
            "[Train Epoch]: 1 Train Loss: 4.850349426269531\n",
            "\n",
            "[Train Epoch]: 1 Train Loss: 4.788262844085693\n",
            "\n",
            "[Train Epoch]: 1 Train Loss: 4.859483242034912\n",
            "\n",
            "[Train Epoch]: 1 Train Loss: 4.806493759155273\n",
            "\n",
            "[Train Epoch]: 1 Train Loss: 4.84653902053833\n",
            "\n",
            "[Train Epoch]: 1 Train Loss: 4.778911590576172\n",
            "\n",
            "[Train Epoch]: 1 Train Loss: 4.792255401611328\n",
            "\n",
            "[Train Epoch]: 1 Train Loss: 4.673096179962158\n",
            "\n",
            "[Train Epoch]: 1 Train Loss: 4.69515323638916\n",
            "\n",
            "[Train Epoch]: 1 Train Loss: 4.682353496551514\n",
            "\n",
            "[Train Epoch]: 1 Train Loss: 4.526836395263672\n",
            "\n",
            "[Train Epoch]: 1 Train Loss: 4.465463638305664\n",
            "\n",
            "[Train Epoch]: 1 Train Loss: 4.648972511291504\n",
            "\n",
            "[Train Epoch]: 1 Train Loss: 4.449784278869629\n",
            "\n",
            "[Train Epoch]: 1 Train Loss: 4.436587333679199\n",
            "\n",
            "[Train Epoch]: 1 Train Loss: 4.625594615936279\n",
            "\n",
            "[Train Epoch]: 1 Train Loss: 4.576496601104736\n",
            "\n",
            "[Train Epoch]: 1 Train Loss: 4.4663405418396\n",
            "\n",
            "[Train Epoch]: 1 Train Loss: 4.415829181671143\n",
            "\n",
            "[Train Epoch]: 1 Train Loss: 4.490667343139648\n",
            "\n",
            "[Train Epoch]: 1 Train Loss: 4.336643695831299\n",
            "\n",
            "[Train Epoch]: 1 Train Loss: 4.275949478149414\n",
            "\n",
            "[Train Epoch]: 1 Train Loss: 4.399589538574219\n",
            "\n",
            "[Train Epoch]: 1 Train Loss: 4.23322868347168\n",
            "\n",
            "[Train Epoch]: 1 Train Loss: 4.386290073394775\n",
            "\n",
            "[Train Epoch]: 1 Train Loss: 4.351586818695068\n",
            "\n",
            "[Train Epoch]: 1 Train Loss: 4.275665283203125\n",
            "\n",
            "[Train Epoch]: 1 Train Loss: 4.356605052947998\n",
            "\n",
            "[Train Epoch]: 1 Train Loss: 4.266399383544922\n",
            "\n",
            "[Train Epoch]: 1 Train Loss: 4.265555381774902\n",
            "\n",
            "[Train Epoch]: 1 Train Loss: 4.14152717590332\n",
            "\n",
            "[Train Epoch]: 1 Train Loss: 4.241040229797363\n",
            "\n",
            "[Train Epoch]: 1 Train Loss: 4.102664947509766\n",
            "\n",
            "[Train Epoch]: 1 Train Loss: 4.228147029876709\n",
            "\n",
            "[Train Epoch]: 1 Train Loss: 4.1382341384887695\n",
            "\n",
            "[Train Epoch]: 1 Train Loss: 4.133275508880615\n",
            "\n",
            "[Train Epoch]: 1 Train Loss: 4.057325839996338\n",
            "\n",
            "[Train Epoch]: 1 Train Loss: 4.121544361114502\n",
            "\n",
            "[Train Epoch]: 1 Train Loss: 4.065110683441162\n",
            "\n",
            "[Train Epoch]: 1 Train Loss: 4.063136100769043\n",
            "\n",
            "[Train Epoch]: 1 Train Loss: 4.07295036315918\n",
            "\n",
            "[Train Epoch]: 1 Train Loss: 4.01169490814209\n",
            "\n",
            "[Train Epoch]: 1 Train Loss: 3.9932334423065186\n",
            "\n",
            "[Train Epoch]: 1 Train Loss: 4.092281818389893\n",
            "\n",
            "[Train Epoch]: 1 Train Loss: 4.048116207122803\n",
            "\n",
            "[Train Epoch]: 1 Train Loss: 3.981633424758911\n",
            "\n",
            "[Train Epoch]: 1 Train Loss: 4.071117401123047\n",
            "\n",
            "[Train Epoch]: 1 Train Loss: 4.077120304107666\n",
            "\n",
            "[Train Epoch]: 1 Train Loss: 3.916877508163452\n",
            "\n",
            "[Train Epoch]: 1 Train Loss: 3.9193978309631348\n",
            "\n",
            "[Train Epoch]: 1 Train Loss: 3.9080114364624023\n",
            "\n",
            "[Train Epoch]: 1 Train Loss: 3.908745527267456\n",
            "\n",
            "[Train Epoch]: 1 Train Loss: 3.8915657997131348\n",
            "\n",
            "[Train Epoch]: 1 Train Loss: 4.061124324798584\n",
            "\n",
            "[Train Epoch]: 1 Train Loss: 3.8691420555114746\n",
            "\n",
            "[Train Epoch]: 1 Train Loss: 3.9323558807373047\n",
            "\n",
            "[Train Epoch]: 1 Train Loss: 3.7699971199035645\n",
            "\n",
            "[Train Epoch]: 1 Train Loss: 3.802483320236206\n",
            "\n",
            "[Train Epoch]: 1 Train Loss: 4.066901683807373\n",
            "\n",
            "[Train Epoch]: 1 Train Loss: 3.843137264251709\n",
            "\n",
            "[Train Epoch]: 1 Train Loss: 3.920424699783325\n"
          ]
        }
      ],
      "source": [
        "# Driving train test loop\n",
        "for epoch in tqdm(range(1,epochs+1)):\n",
        "    train_step(train_loader, epoch)\n",
        "    val_step(val_loader, epoch)\n",
        "    scheduler.step()\n",
        "    torch.save(model,\"dino_model.pt\")"
      ]
    },
    {
      "attachments": {},
      "cell_type": "markdown",
      "id": "r4ptG3LVMKXX",
      "metadata": {
        "id": "r4ptG3LVMKXX"
      },
      "source": [
        "## Testing"
      ]
    },
    {
      "cell_type": "code",
      "execution_count": null,
      "id": "GHHJtUrmkjb1",
      "metadata": {
        "id": "GHHJtUrmkjb1"
      },
      "outputs": [],
      "source": [
        "# test the trained model  \n",
        "def test_model(loader):\n",
        "\n",
        "    model.eval()\n",
        "    corrects=0\n",
        "    \n",
        "    with torch.no_grad():\n",
        "        for batch_id, (input_data,labels) in enumerate(loader):\n",
        "\n",
        "            input_data = (input_data).to(device), labels.to(device)\n",
        "\n",
        "            prediction = model(input_data)\n",
        "            loss = loss_criterion(prediction,labels)\n",
        "            total_loss += loss.item()\n",
        "            corrects+= (torch.argmax(prediction,dim=1)==labels).sum()\n",
        "    \n",
        "    accuracy = corrects/(len(loader)*batch_size)\n",
        "    print(f\"Test Accuracy: {accuracy}, Test Loss: {loss.item()}\")\n",
        "\n",
        "    return accuracy"
      ]
    },
    {
      "cell_type": "code",
      "execution_count": null,
      "id": "proprietary-shell",
      "metadata": {
        "id": "proprietary-shell"
      },
      "outputs": [],
      "source": [
        "test_model(model, test_loader)"
      ]
    },
    {
      "attachments": {},
      "cell_type": "markdown",
      "id": "BAsvl78-MO_D",
      "metadata": {
        "id": "BAsvl78-MO_D"
      },
      "source": [
        "## Visualize results on tensorboard"
      ]
    },
    {
      "cell_type": "code",
      "execution_count": null,
      "id": "increasing-delaware",
      "metadata": {
        "id": "increasing-delaware"
      },
      "outputs": [],
      "source": [
        "%load_ext tensorboard\n",
        "%tensorboard --logdir=runs/ "
      ]
    },
    {
      "cell_type": "code",
      "execution_count": null,
      "id": "cqqvXqp4G2uI",
      "metadata": {
        "id": "cqqvXqp4G2uI"
      },
      "outputs": [],
      "source": []
    }
  ],
  "metadata": {
    "colab": {
      "collapsed_sections": [],
      "name": "ViViT_UCF101.ipynb",
      "provenance": []
    },
    "kernelspec": {
      "display_name": "Python 3 (ipykernel)",
      "language": "python",
      "name": "python3"
    },
    "language_info": {
      "codemirror_mode": {
        "name": "ipython",
        "version": 3
      },
      "file_extension": ".py",
      "mimetype": "text/x-python",
      "name": "python",
      "nbconvert_exporter": "python",
      "pygments_lexer": "ipython3",
      "version": "3.9.16"
    }
  },
  "nbformat": 4,
  "nbformat_minor": 5
}
